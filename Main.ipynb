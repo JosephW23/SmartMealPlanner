{
 "cells": [
  {
   "cell_type": "code",
   "execution_count": 1,
   "metadata": {},
   "outputs": [
    {
     "name": "stderr",
     "output_type": "stream",
     "text": [
      "C:\\Users\\david\\AppData\\Local\\Packages\\PythonSoftwareFoundation.Python.3.11_qbz5n2kfra8p0\\LocalCache\\local-packages\\Python311\\site-packages\\tqdm\\auto.py:21: TqdmWarning: IProgress not found. Please update jupyter and ipywidgets. See https://ipywidgets.readthedocs.io/en/stable/user_install.html\n",
      "  from .autonotebook import tqdm as notebook_tqdm\n"
     ]
    }
   ],
   "source": [
    "import pandas as pd\n",
    "import numpy as np\n",
    "import ast\n",
    "import re\n",
    "import matplotlib.pyplot as plt\n",
    "import seaborn as sns\n",
    "from collections import Counter\n",
    "from itertools import combinations\n",
    "from sklearn.preprocessing import MinMaxScaler\n",
    "from sklearn.preprocessing import LabelEncoder\n",
    "import requests\n",
    "from collections import defaultdict\n",
    "\n",
    "from pgmpy.models import BayesianNetwork\n",
    "from pgmpy.estimators import MaximumLikelihoodEstimator\n",
    "from pgmpy.inference import VariableElimination"
   ]
  },
  {
   "cell_type": "code",
   "execution_count": 2,
   "metadata": {},
   "outputs": [
    {
     "name": "stdout",
     "output_type": "stream",
     "text": [
      "<class 'pandas.core.frame.DataFrame'>\n",
      "Index: 2231142 entries, 0 to 2231141\n",
      "Data columns (total 3 columns):\n",
      " #   Column       Dtype \n",
      "---  ------       ----- \n",
      " 0   title        object\n",
      " 1   ingredients  object\n",
      " 2   NER          object\n",
      "dtypes: object(3)\n",
      "memory usage: 68.1+ MB\n"
     ]
    }
   ],
   "source": [
    "dataset_path = \"recipeNLG.csv\"\n",
    "df = pd.read_csv(dataset_path, index_col = 0)\n",
    "\n",
    "# TESTING PURPOSES : Cull 99% of the data randomly to ensure faster data processing\n",
    "# df = df.sample(n = int(len(df) * 0.01), random_state = 42).reset_index(drop = True)\n",
    "\n",
    "df = df.drop(columns=['link', 'source', 'directions'], errors='ignore')\n",
    "\n",
    "df['ingredients'] = df['ingredients'].apply(ast.literal_eval)\n",
    "\n",
    "# Show dataset sample\n",
    "df.shape\n",
    "df.head()\n",
    "df.info()"
   ]
  },
  {
   "cell_type": "code",
   "execution_count": 3,
   "metadata": {},
   "outputs": [],
   "source": [
    "# We need this list of measurement units for filtering (unfortunate really)\n",
    "MEASUREMENT_UNITS = [\n",
    "    'tsp', 'tbsp', 'c', 'cup', 'cups', 'ml', 'l', 'liters', 'liter', 'fl oz', 'fluid ounce',\n",
    "    'oz', 'ounce', 'ounces', 'g', 'gram', 'grams', 'kg', 'kilogram', 'kilograms', 'lb', 'pound', 'pounds',\n",
    "    'piece', 'clove', 'slice', 'dash', 'pinch', 'quart', 'pint'\n",
    "]\n",
    "unit_pattern = re.compile(r'\\b(?:' + '|'.join(MEASUREMENT_UNITS) + r')\\b', re.IGNORECASE)\n",
    "number_pattern = re.compile(r'(\\d+(/\\d+)?\\s*)')"
   ]
  },
  {
   "cell_type": "code",
   "execution_count": 4,
   "metadata": {},
   "outputs": [],
   "source": [
    "def extract_ingredient_data(ingredient):\n",
    "    # Edge case / error handling\n",
    "    if not isinstance(ingredient, str) or ingredient.strip() == \"\":\n",
    "        return None, \"\"\n",
    "\n",
    "    ingredient_lower = ingredient.lower().strip()\n",
    "\n",
    "    amount_match = number_pattern.search(ingredient_lower)\n",
    "    amount = amount_match.group(0).strip() if amount_match else \"unknown\"\n",
    "\n",
    "    unit_match = unit_pattern.search(ingredient_lower)\n",
    "    unit = unit_match.group(0) if unit_match else \"unknown\"\n",
    "\n",
    "    cleaned_ingredient = number_pattern.sub('', ingredient_lower)\n",
    "    cleaned_ingredient = unit_pattern.sub('', cleaned_ingredient)\n",
    "    cleaned_ingredient = re.sub(r'[^\\w\\s]', '', cleaned_ingredient)\n",
    "    cleaned_ingredient = cleaned_ingredient.strip()\n",
    "\n",
    "    return cleaned_ingredient, f\"{amount} {unit}\""
   ]
  },
  {
   "cell_type": "code",
   "execution_count": 5,
   "metadata": {},
   "outputs": [],
   "source": [
    "def process_ingredients(ingredient_list):\n",
    "    # Error case / edge case handling\n",
    "    if not isinstance(ingredient_list, list) or len(ingredient_list) == 0:\n",
    "        return [], []\n",
    "\n",
    "    extracted_data = [extract_ingredient_data(ingredient) for ingredient in ingredient_list]\n",
    "    cleaned, ner = zip(*extracted_data) if extracted_data else ([], [])\n",
    "\n",
    "    cleaned = [c if c is not None else \"\" for c in cleaned]\n",
    "    ner = [n if n is not None else \"\" for n in ner]\n",
    "\n",
    "    return list(cleaned), list(ner)"
   ]
  },
  {
   "cell_type": "code",
   "execution_count": 6,
   "metadata": {},
   "outputs": [],
   "source": [
    "df[['cleaned_ingredients', 'NER']] = df['ingredients'].apply(lambda lst: pd.Series(process_ingredients(lst)))\n",
    "df['NER'] = df['NER'].apply(lambda x: x if isinstance(x, list) else [])\n",
    "df = df[df['NER'].apply(lambda ner_list: all(\"unknown\" not in ner for ner in ner_list))]\n",
    "\n",
    "df = df.reset_index(drop=True)\n",
    "df = df.drop(columns = ['ingredients'], errors = 'ignore')\n",
    "df = df.rename(columns={'NER': 'measurements', 'cleaned_ingredients' : 'ingredients'})\n",
    "df['num_ingredients'] = df['ingredients'].apply(len)"
   ]
  },
  {
   "cell_type": "code",
   "execution_count": 7,
   "metadata": {},
   "outputs": [
    {
     "name": "stdout",
     "output_type": "stream",
     "text": [
      "<class 'pandas.core.frame.DataFrame'>\n",
      "RangeIndex: 170495 entries, 0 to 170494\n",
      "Data columns (total 4 columns):\n",
      " #   Column           Non-Null Count   Dtype \n",
      "---  ------           --------------   ----- \n",
      " 0   title            170495 non-null  object\n",
      " 1   measurements     170495 non-null  object\n",
      " 2   ingredients      170495 non-null  object\n",
      " 3   num_ingredients  170495 non-null  int64 \n",
      "dtypes: int64(1), object(3)\n",
      "memory usage: 5.2+ MB\n"
     ]
    }
   ],
   "source": [
    "df.head()\n",
    "df.info()"
   ]
  },
  {
   "cell_type": "code",
   "execution_count": 8,
   "metadata": {},
   "outputs": [
    {
     "name": "stdout",
     "output_type": "stream",
     "text": [
      "\n",
      "Top 10 Ingredient Pair Probabilities:\n",
      "('salt', 'sugar'): 0.0046\n",
      "('salt', 'flour'): 0.0033\n",
      "('vanilla', 'sugar'): 0.0031\n",
      "('water', 'sugar'): 0.0026\n",
      "('sugar', 'flour'): 0.0025\n",
      "('water', 'salt'): 0.0022\n",
      "('milk', 'sugar'): 0.0021\n",
      "('salt', 'pepper'): 0.0021\n",
      "('milk', 'salt'): 0.0020\n",
      "('sugar', 'butter'): 0.0020\n"
     ]
    }
   ],
   "source": [
    "# CPT\n",
    "ingredient_pairs = Counter()\n",
    "for ingredients in df['ingredients']:  \n",
    "    for pair in combinations(set(ingredients), 2): \n",
    "        ingredient_pairs[pair] += 1\n",
    "\n",
    "total_pairs = sum(ingredient_pairs.values())\n",
    "ingredient_co_occurrence_probs = {pair: count / total_pairs for pair, count in ingredient_pairs.items()}\n",
    "\n",
    "top_co_occurrences = sorted(ingredient_co_occurrence_probs.items(), key=lambda x: x[1], reverse=True)[:10]\n",
    "print(\"\\nTop 10 Ingredient Pair Probabilities:\")\n",
    "for pair, prob in top_co_occurrences:\n",
    "    print(f\"{pair}: {prob:.4f}\")"
   ]
  },
  {
   "cell_type": "code",
   "execution_count": 9,
   "metadata": {},
   "outputs": [
    {
     "data": {
      "image/png": "[encoded data removed]",
      "text/plain": [
       "<Figure size 1000x600 with 1 Axes>"
      ]
     },
     "metadata": {},
     "output_type": "display_data"
    }
   ],
   "source": [
    "# Scaling to help training\n",
    "scaler = MinMaxScaler()\n",
    "df['num_ingredients_scaled'] = scaler.fit_transform(df[['num_ingredients']])\n",
    "\n",
    "plt.figure(figsize=(10,6))\n",
    "sns.histplot(df['num_ingredients_scaled'], bins=50, kde=True)\n",
    "plt.title('Normalized Ingredient Count Distribution')\n",
    "plt.xlabel('Scaled Num Ingredients')\n",
    "plt.ylabel('Frequency')\n",
    "plt.show()"
   ]
  },
  {
   "cell_type": "code",
   "execution_count": 10,
   "metadata": {},
   "outputs": [
    {
     "name": "stderr",
     "output_type": "stream",
     "text": [
      "C:\\Users\\david\\AppData\\Local\\Temp\\ipykernel_11508\\1255449476.py:2: DtypeWarning: Columns (2,3,4,6,9,12,16,17,18,19) have mixed types. Specify dtype option on import or set low_memory=False.\n",
      "  branded_food = pd.read_csv(\"branded_food.csv\")\n"
     ]
    },
    {
     "name": "stdout",
     "output_type": "stream",
     "text": [
      "   fdc_id  carbohydrates  calories  protein    fat  \\\n",
      "0  344604           4.07      24.0     0.81   0.41   \n",
      "1  344605           4.07      24.0     0.81   0.41   \n",
      "2  344606           0.00       NaN    23.21   2.68   \n",
      "3  344607           0.00       NaN    23.21   2.68   \n",
      "4  344608           0.00       NaN    18.75  15.18   \n",
      "\n",
      "                                         ingredients  serving_size  \\\n",
      "0  Tomatoes, Tomato Juice, Less Than 2% Of: Salt,...         123.0   \n",
      "1  Tomatoes, Tomato Juice, Less Than 2% Of: Salt,...         123.0   \n",
      "2                    White Turkey, Natural Flavoring         112.0   \n",
      "3                   Turkey Breast, Natural Flavoring         112.0   \n",
      "4                         Turkey, natural Flavoring.         112.0   \n",
      "\n",
      "  serving_size_unit        gtin_upc  \n",
      "0                 g  00072940755050  \n",
      "1                 g  00072940755043  \n",
      "2                 g  00642205534517  \n",
      "3                 g  00642205510276  \n",
      "4                 g  00642205534500  \n",
      "(1874041, 9)\n"
     ]
    }
   ],
   "source": [
    "# LOADING USDA FILES HERE\n",
    "branded_food = pd.read_csv(\"branded_food.csv\")  \n",
    "food_nutrient = pd.read_csv(\"food_nutrient.csv\")  \n",
    "nutrient_info = pd.read_csv(\"nutrient.csv\")  \n",
    "\n",
    "branded_food = branded_food[['fdc_id', 'ingredients', 'serving_size', 'serving_size_unit', 'gtin_upc']]\n",
    "food_nutrient = food_nutrient[['fdc_id', 'nutrient_id', 'amount']]\n",
    "nutrient_info = nutrient_info[['id', 'name', 'unit_name']]\n",
    "\n",
    "food_nutrient = food_nutrient.merge(nutrient_info, left_on='nutrient_id', right_on='id', how='left')\n",
    "needed_nutrients = [\"Energy\", \"Protein\", \"Total lipid (fat)\", \"Carbohydrate, by difference\"]\n",
    "food_nutrient = food_nutrient[food_nutrient['name'].isin(needed_nutrients)]\n",
    "\n",
    "# Handle duplicate id values\n",
    "food_nutrient = food_nutrient.groupby(['fdc_id', 'name'], as_index=False).agg({'amount': 'mean'})\n",
    "food_nutrient_pivot = food_nutrient.pivot(index='fdc_id', columns='name', values='amount').reset_index()\n",
    "food_nutrient_pivot.columns.name = None  # Remove hierarchical index name\n",
    "food_nutrient_pivot = food_nutrient_pivot.rename_axis(None, axis=1)  # Fully reset column index\n",
    "\n",
    "# Simplifying names easier syntaxing\n",
    "food_nutrient_pivot = food_nutrient_pivot.rename(columns={\n",
    "    \"Energy\": \"calories\",\n",
    "    \"Protein\": \"protein\",\n",
    "    \"Total lipid (fat)\": \"fat\",\n",
    "    \"Carbohydrate, by difference\": \"carbohydrates\"\n",
    "})\n",
    "food_df = food_nutrient_pivot.merge(branded_food, on=\"fdc_id\", how=\"left\")\n",
    "\n",
    "# Culling data set for testing purposes\n",
    "# food_df = food_df.sample(n = int(len(df) * 0.0001), random_state = 42).reset_index(drop = True)\n",
    "\n",
    "# Display sample of processed data\n",
    "print(food_df.head())\n",
    "print(food_df.shape)\n"
   ]
  },
  {
   "cell_type": "code",
   "execution_count": 11,
   "metadata": {},
   "outputs": [],
   "source": [
    "# NEEDED PREPROCESSING FOR FASTER PROCESSING WAY TOO SLOW\n",
    "usda_ingredient_map = defaultdict(list)\n",
    "for idx, row in food_df.iterrows():\n",
    "    for ingredient in str(row['ingredients']).split(', '): \n",
    "        usda_ingredient_map[ingredient.lower()].append(row)\n",
    "\n",
    "def match_ingredient_to_usda(ingredient_list):\n",
    "    matched_nutrition = []\n",
    "    # total = 0 #Used previously to track progress\n",
    "\n",
    "    for ingredient in ingredient_list:\n",
    "        # total += 1 # Progress tracker\n",
    "        matches = usda_ingredient_map.get(ingredient.lower(), None)\n",
    "        if matches:\n",
    "            matched_nutrition.append(matches[0]) \n",
    "        else:\n",
    "            # ERROR HANDLING\n",
    "            matched_nutrition.append(None)\n",
    "    return matched_nutrition\n",
    "\n",
    "df['matched_nutrition'] = df['ingredients'].apply(match_ingredient_to_usda)\n",
    "df['matched_nutrition'] = df['matched_nutrition'].apply( lambda x: [dict(item) if isinstance(item, pd.Series) else None for item in x] )"
   ]
  },
  {
   "cell_type": "code",
   "execution_count": 12,
   "metadata": {},
   "outputs": [
    {
     "name": "stdout",
     "output_type": "stream",
     "text": [
      "                              title  \\\n",
      "0               No-Bake Nut Cookies   \n",
      "1                       Creamy Corn   \n",
      "2             Double Cherry Delight   \n",
      "3  Eggless Milkless Applesauce Cake   \n",
      "4                        Easy Fudge   \n",
      "\n",
      "                                       measurements  \\\n",
      "0         [1 c, 1/2 c, 1/2 tsp, 1/2 c, 2 tbsp, 3 c]   \n",
      "1    [2 oz, 1 oz, 1/3 c, 1/2 tsp, 1/2 tsp, 1/4 tsp]   \n",
      "2            [1 oz, 1/2 c, 1 oz, 2 c, 1/8 tsp, 1 c]   \n",
      "3  [3/4 c, 1/2 c, 1 c, 3 tsp, 1 tsp, 2 c, 1 c, 1 c]   \n",
      "4                    [1 oz, 1 oz, 1 oz, 1 c, 1 tsp]   \n",
      "\n",
      "                                         ingredients  num_ingredients  \\\n",
      "0  [firmly packed brown sugar, evaporated milk, v...                6   \n",
      "1  [pkg frozen corn, pkg cream cheese cubed, butt...                6   \n",
      "2  [can dark sweet pitted cherries, ginger ale, p...                6   \n",
      "3  [sugar, shortening, applesauce, level  soda, e...                8   \n",
      "4  [can sweetened condensed milk, pkg semisweet c...                5   \n",
      "\n",
      "   num_ingredients_scaled                                  matched_nutrition  \\\n",
      "0                0.054348  [None, {'fdc_id': 346429, 'carbohydrates': 26....   \n",
      "1                0.054348  [None, None, None, {'fdc_id': 344614, 'carbohy...   \n",
      "2                0.054348  [None, {'fdc_id': 466692, 'carbohydrates': 34....   \n",
      "3                0.076087  [{'fdc_id': 344609, 'carbohydrates': 72.7, 'ca...   \n",
      "4                0.043478  [None, None, None, None, {'fdc_id': 345705, 'c...   \n",
      "\n",
      "   calories  protein    fat  carbohydrates  \n",
      "0       0.0    20.45  23.77          81.48  \n",
      "1       0.0    23.00  42.50         151.70  \n",
      "2     164.0     9.71   2.38          46.58  \n",
      "3    1344.0    37.94  88.96         321.51  \n",
      "4       0.0    14.10  20.60          54.50  \n"
     ]
    }
   ],
   "source": [
    "def compute_recipe_nutrition(matched_nutrition):\n",
    "    if not matched_nutrition or all(item is None for item in matched_nutrition):  \n",
    "        return pd.Series({'calories': np.nan, 'protein': np.nan, 'fat': np.nan, 'carbohydrates': np.nan})\n",
    "    valid_nutrition = [item for item in matched_nutrition if item and isinstance(item, dict)]\n",
    "\n",
    "    if not valid_nutrition:  \n",
    "        return pd.Series({'calories': np.nan, 'protein': np.nan, 'fat': np.nan, 'carbohydrates': np.nan})\n",
    "\n",
    "    valid_nutrition = [\n",
    "        {k: item.get(k, 0) for k in ['calories', 'protein', 'fat', 'carbohydrates']}\n",
    "        for item in valid_nutrition\n",
    "    ]\n",
    "\n",
    "    return pd.Series(pd.DataFrame(valid_nutrition).sum())\n",
    "\n",
    "df[['calories', 'protein', 'fat', 'carbohydrates']] = df['matched_nutrition'].apply(compute_recipe_nutrition)\n",
    "\n",
    "df = df.dropna()\n",
    "\n",
    "print(df.head()) # Checking\n"
   ]
  },
  {
   "cell_type": "code",
   "execution_count": 13,
   "metadata": {},
   "outputs": [
    {
     "name": "stderr",
     "output_type": "stream",
     "text": [
      "C:\\Users\\david\\AppData\\Local\\Temp\\ipykernel_11508\\3105581464.py:10: FutureWarning: Setting an item of incompatible dtype is deprecated and will raise in a future error of pandas. Value '[1 1 2 ... 1 1 1]' has dtype incompatible with category, please explicitly cast to a compatible dtype first.\n",
      "  bn_data.loc[:, col] = label_encoder.fit_transform(bn_data[col]).astype(int)\n",
      "C:\\Users\\david\\AppData\\Local\\Temp\\ipykernel_11508\\3105581464.py:10: FutureWarning: Setting an item of incompatible dtype is deprecated and will raise in a future error of pandas. Value '[2 2 1 ... 1 2 0]' has dtype incompatible with category, please explicitly cast to a compatible dtype first.\n",
      "  bn_data.loc[:, col] = label_encoder.fit_transform(bn_data[col]).astype(int)\n",
      "C:\\Users\\david\\AppData\\Local\\Temp\\ipykernel_11508\\3105581464.py:10: FutureWarning: Setting an item of incompatible dtype is deprecated and will raise in a future error of pandas. Value '[1 2 1 ... 1 0 1]' has dtype incompatible with category, please explicitly cast to a compatible dtype first.\n",
      "  bn_data.loc[:, col] = label_encoder.fit_transform(bn_data[col]).astype(int)\n",
      "C:\\Users\\david\\AppData\\Local\\Temp\\ipykernel_11508\\3105581464.py:10: FutureWarning: Setting an item of incompatible dtype is deprecated and will raise in a future error of pandas. Value '[1 2 1 ... 1 2 2]' has dtype incompatible with category, please explicitly cast to a compatible dtype first.\n",
      "  bn_data.loc[:, col] = label_encoder.fit_transform(bn_data[col]).astype(int)\n"
     ]
    },
    {
     "name": "stdout",
     "output_type": "stream",
     "text": [
      "   num_ingredients  calories  protein    fat  carbohydrates  calorie_category  \\\n",
      "0                6       0.0    20.45  23.77          81.48                 1   \n",
      "1                6       0.0    23.00  42.50         151.70                 1   \n",
      "2                6     164.0     9.71   2.38          46.58                 2   \n",
      "3                8    1344.0    37.94  88.96         321.51                 0   \n",
      "4                5       0.0    14.10  20.60          54.50                 1   \n",
      "\n",
      "   protein_category  fat_category  carb_category  num_ingredients_cat  \n",
      "0                 2             1              1                    2  \n",
      "1                 2             2              2                    2  \n",
      "2                 1             1              1                    2  \n",
      "3                 0             0              0                    1  \n",
      "4                 1             1              1                    0  \n"
     ]
    },
    {
     "name": "stderr",
     "output_type": "stream",
     "text": [
      "C:\\Users\\david\\AppData\\Local\\Temp\\ipykernel_11508\\3105581464.py:15: FutureWarning: Setting an item of incompatible dtype is deprecated and will raise in a future error of pandas. Value '[2 2 2 ... 1 2 0]' has dtype incompatible with category, please explicitly cast to a compatible dtype first.\n",
      "  bn_data.loc[:, 'num_ingredients_cat'] = label_encoder.fit_transform(bn_data['num_ingredients_cat']).astype(int)\n"
     ]
    }
   ],
   "source": [
    "bn_data = df[['num_ingredients', 'calories', 'protein', 'fat', 'carbohydrates']].copy()\n",
    "bn_data.loc[:, 'calorie_category'] = pd.qcut(bn_data['calories'], q=3, labels=['Low', 'Medium', 'High'])\n",
    "bn_data.loc[:, 'protein_category'] = pd.qcut(bn_data['protein'], q=3, labels=['Low', 'Medium', 'High'])\n",
    "bn_data.loc[:, 'fat_category'] = pd.qcut(bn_data['fat'], q=3, labels=['Low', 'Medium', 'High'])\n",
    "bn_data.loc[:, 'carb_category'] = pd.qcut(bn_data['carbohydrates'], q=3, labels=['Low', 'Medium', 'High'])\n",
    "\n",
    "label_encoder = LabelEncoder()\n",
    "for col in ['calorie_category', 'protein_category', 'fat_category', 'carb_category']:\n",
    "    bn_data.loc[:, col] = bn_data[col].astype(str)\n",
    "    bn_data.loc[:, col] = label_encoder.fit_transform(bn_data[col]).astype(int)\n",
    "\n",
    "# Categorizing BASED ON INGREDIENT NUMBER (WE HAD TO SUB OUT FINANCIAL CONSTRAINT BECAUSE NO API EXISTED :C BUT IS OK ESTIMATE FOR NOW )\n",
    "bn_data.loc[:, 'num_ingredients_cat'] = pd.qcut(bn_data['num_ingredients'], q=3, labels=['Few', 'Moderate', 'Many'])\n",
    "bn_data.loc[:, 'num_ingredients_cat'] = bn_data['num_ingredients_cat'].astype(str)\n",
    "bn_data.loc[:, 'num_ingredients_cat'] = label_encoder.fit_transform(bn_data['num_ingredients_cat']).astype(int)\n",
    "\n",
    "print(bn_data.head())\n"
   ]
  },
  {
   "cell_type": "code",
   "execution_count": 14,
   "metadata": {},
   "outputs": [],
   "source": [
    "bayesian_model = BayesianNetwork([\n",
    "    ('num_ingredients_cat', 'calorie_category'),\n",
    "    ('num_ingredients_cat', 'protein_category'),\n",
    "    ('num_ingredients_cat', 'fat_category'),\n",
    "    ('num_ingredients_cat', 'carb_category')\n",
    "])\n",
    "\n",
    "bayesian_model.fit(bn_data, estimator=MaximumLikelihoodEstimator)\n"
   ]
  },
  {
   "cell_type": "code",
   "execution_count": 15,
   "metadata": {},
   "outputs": [
    {
     "name": "stdout",
     "output_type": "stream",
     "text": [
      "Probability distribution for calorie_category given num_ingredients_cat = 0 (Few ingredients):\n",
      "+---------------------+-------------------------+\n",
      "| calorie_category    |   phi(calorie_category) |\n",
      "+=====================+=========================+\n",
      "| calorie_category(0) |                  0.2103 |\n",
      "+---------------------+-------------------------+\n",
      "| calorie_category(1) |                  0.4295 |\n",
      "+---------------------+-------------------------+\n",
      "| calorie_category(2) |                  0.3602 |\n",
      "+---------------------+-------------------------+\n",
      "\n",
      "Probability distribution for protein_category and fat_category given num_ingredients_cat = 2 (Many ingredients):\n",
      "+---------------------+-----------------+--------------------------------------+\n",
      "| protein_category    | fat_category    |   phi(protein_category,fat_category) |\n",
      "+=====================+=================+======================================+\n",
      "| protein_category(0) | fat_category(0) |                               0.1491 |\n",
      "+---------------------+-----------------+--------------------------------------+\n",
      "| protein_category(0) | fat_category(1) |                               0.0985 |\n",
      "+---------------------+-----------------+--------------------------------------+\n",
      "| protein_category(0) | fat_category(2) |                               0.1380 |\n",
      "+---------------------+-----------------+--------------------------------------+\n",
      "| protein_category(1) | fat_category(0) |                               0.0916 |\n",
      "+---------------------+-----------------+--------------------------------------+\n",
      "| protein_category(1) | fat_category(1) |                               0.0605 |\n",
      "+---------------------+-----------------+--------------------------------------+\n",
      "| protein_category(1) | fat_category(2) |                               0.0847 |\n",
      "+---------------------+-----------------+--------------------------------------+\n",
      "| protein_category(2) | fat_category(0) |                               0.1461 |\n",
      "+---------------------+-----------------+--------------------------------------+\n",
      "| protein_category(2) | fat_category(1) |                               0.0964 |\n",
      "+---------------------+-----------------+--------------------------------------+\n",
      "| protein_category(2) | fat_category(2) |                               0.1351 |\n",
      "+---------------------+-----------------+--------------------------------------+\n"
     ]
    }
   ],
   "source": [
    "inference = VariableElimination(bayesian_model)\n",
    "\n",
    "# EX: Prob distribution for calorie_category | num_ingredients_cat = 0 (few)\n",
    "query_result = inference.query(variables=[\"calorie_category\"], evidence={\"num_ingredients_cat\": 0})\n",
    "print(\"Probability distribution for calorie_category given num_ingredients_cat = 0 (Few ingredients):\")\n",
    "print(query_result)\n",
    "\n",
    "query_result_multi = inference.query(variables=[\"protein_category\", \"fat_category\"],\n",
    "                                     evidence={\"num_ingredients_cat\": 2})\n",
    "print(\"\\nProbability distribution for protein_category and fat_category given num_ingredients_cat = 2 (Many ingredients):\")\n",
    "print(query_result_multi)\n"
   ]
  }
 ],
 "metadata": {
  "kernelspec": {
   "display_name": "Python 3",
   "language": "python",
   "name": "python3"
  },
  "language_info": {
   "codemirror_mode": {
    "name": "ipython",
    "version": 3
   },
   "file_extension": ".py",
   "mimetype": "text/x-python",
   "name": "python",
   "nbconvert_exporter": "python",
   "pygments_lexer": "ipython3",
   "version": "3.11.9"
  }
 },
 "nbformat": 4,
 "nbformat_minor": 2
}
